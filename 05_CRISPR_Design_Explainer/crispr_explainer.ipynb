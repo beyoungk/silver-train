{
 "cells": [
  {
   "cell_type": "markdown",
   "id": "fdf1e5f2",
   "metadata": {},
   "source": [
    "## Section 1: Introduction"
   ]
  },
  {
   "cell_type": "markdown",
   "id": "75c22910",
   "metadata": {},
   "source": [
    "This notebook explains how CRISPR-Cas9 works and demonstrates a simplified simulation of how guide RNAs (gRNAs) locate target sequences in DNA.\n",
    "\n",
    "CRISPR-Cas9 is a gene-editing tool that uses:\n",
    "- A guide RNA (gRNA) to match a target sequence\n",
    "- The Cas9 enzyme to cut DNA at the target site\n",
    "- A nearby PAM sequence (e.g., NGG) for recognition\n",
    "\n",
    "This notebook lets you test a guide RNA against a DNA strand and highlights where matches (or near matches) occur."
   ]
  },
  {
   "cell_type": "markdown",
   "id": "607a11b8",
   "metadata": {},
   "source": [
    "## Section 2: Input DNA and gRNA"
   ]
  },
  {
   "cell_type": "markdown",
   "id": "5d976e85",
   "metadata": {},
   "source": [
    "Sample DNA sequence (can be replaced with a longer one)"
   ]
  },
  {
   "cell_type": "code",
   "execution_count": 1,
   "id": "b0c7174d",
   "metadata": {},
   "outputs": [],
   "source": [
    "dna_sequence = \"AGCTTAGGCGTACCGGTACCGGACTGATCGGTACCGGAGCGTACCGGTAGGCG\""
   ]
  },
  {
   "cell_type": "markdown",
   "id": "f07f5087",
   "metadata": {},
   "source": [
    "Example guide RNA sequence (20 bases)"
   ]
  },
  {
   "cell_type": "code",
   "execution_count": 2,
   "id": "969e9465",
   "metadata": {},
   "outputs": [],
   "source": [
    "guide_rna = \"CGTACCGGTACCGGACTGAT\""
   ]
  },
  {
   "cell_type": "markdown",
   "id": "aec38c88",
   "metadata": {},
   "source": [
    "PAM sequence to look for (simplified as 'NGG')"
   ]
  },
  {
   "cell_type": "code",
   "execution_count": 3,
   "id": "edd526a8",
   "metadata": {},
   "outputs": [],
   "source": [
    "pam_motif = \"GG\""
   ]
  },
  {
   "cell_type": "markdown",
   "id": "3e3f5640",
   "metadata": {},
   "source": [
    "## Section 3: Matching Function"
   ]
  },
  {
   "cell_type": "code",
   "execution_count": 4,
   "id": "131bd0b4",
   "metadata": {},
   "outputs": [],
   "source": [
    "def find_crispr_matches(dna, guide, pam=\"GG\"):\n",
    "    matches = []\n",
    "    guide_len = len(guide)\n",
    "\n",
    "    for i in range(len(dna) - guide_len - 2):\n",
    "        candidate = dna[i:i+guide_len]\n",
    "        pam_seq = dna[i+guide_len:i+guide_len+2]\n",
    "        \n",
    "        if pam_seq.endswith(pam) and candidate == guide:\n",
    "            matches.append((i, candidate + pam_seq))\n",
    "    \n",
    "    return matches"
   ]
  },
  {
   "cell_type": "markdown",
   "id": "80ca1b95",
   "metadata": {},
   "source": [
    "Run matching"
   ]
  },
  {
   "cell_type": "code",
   "execution_count": 5,
   "id": "98aaacd5",
   "metadata": {},
   "outputs": [
    {
     "data": {
      "text/plain": [
       "[]"
      ]
     },
     "execution_count": 5,
     "metadata": {},
     "output_type": "execute_result"
    }
   ],
   "source": [
    "hits = find_crispr_matches(dna_sequence, guide_rna, pam=pam_motif)\n",
    "hits"
   ]
  },
  {
   "cell_type": "markdown",
   "id": "e76569d8",
   "metadata": {},
   "source": [
    "## Section 4: Visualization"
   ]
  },
  {
   "cell_type": "code",
   "execution_count": 6,
   "id": "477a167c",
   "metadata": {},
   "outputs": [],
   "source": [
    "import matplotlib.pyplot as plt"
   ]
  },
  {
   "cell_type": "markdown",
   "id": "ddd8084d",
   "metadata": {},
   "source": [
    "Plot target matches along the sequence"
   ]
  },
  {
   "cell_type": "code",
   "execution_count": 7,
   "id": "032e453b",
   "metadata": {},
   "outputs": [
    {
     "data": {
      "image/png": "[encoded data removed]",
      "text/plain": [
       "<Figure size 1000x100 with 1 Axes>"
      ]
     },
     "metadata": {},
     "output_type": "display_data"
    }
   ],
   "source": [
    "positions = [pos for pos, _ in hits]\n",
    "\n",
    "plt.figure(figsize=(10, 1))\n",
    "plt.eventplot(positions, orientation='horizontal', color='red', linewidths=5)\n",
    "plt.title(\"CRISPR Target Matches in DNA\")\n",
    "plt.xlabel(\"Position\")\n",
    "plt.yticks([])\n",
    "plt.tight_layout()\n",
    "plt.savefig(\"guide_match_plot.png\")\n",
    "plt.show()"
   ]
  },
  {
   "cell_type": "markdown",
   "id": "3b01141c",
   "metadata": {},
   "source": [
    "## Section 5: Biological Notes"
   ]
  },
  {
   "cell_type": "markdown",
   "id": "4a519a82",
   "metadata": {},
   "source": [
    "- Cas9 requires a PAM sequence (typically NGG) immediately after the target site.\n",
    "- Mismatches between the guide RNA and DNA can reduce or eliminate binding.\n",
    "- Off-target binding is a major concern in gene editing, especially in repetitive or GC-rich regions.\n",
    "- Guide RNA design tools often use algorithms to predict off-target risk.\n",
    "\n",
    "This simulation assumes perfect matching. Real tools account for:\n",
    "- Mismatch tolerance\n",
    "- Bulges or gaps\n",
    "- Genome-wide off-target scanning"
   ]
  }
 ],
 "metadata": {
  "kernelspec": {
   "display_name": "Python 3",
   "language": "python",
   "name": "python3"
  },
  "language_info": {
   "codemirror_mode": {
    "name": "ipython",
    "version": 3
   },
   "file_extension": ".py",
   "mimetype": "text/x-python",
   "name": "python",
   "nbconvert_exporter": "python",
   "pygments_lexer": "ipython3",
   "version": "3.12.1"
  }
 },
 "nbformat": 4,
 "nbformat_minor": 5
}
